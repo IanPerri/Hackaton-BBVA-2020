{
 "cells": [
  {
   "cell_type": "code",
   "execution_count": 22,
   "metadata": {},
   "outputs": [
    {
     "name": "stdout",
     "output_type": "stream",
     "text": [
      "Collecting py3-pinterest\n",
      "  Downloading py3_pinterest-1.1.2-py3-none-any.whl (13 kB)\n",
      "Collecting requests-toolbelt\n",
      "  Downloading requests_toolbelt-0.9.1-py2.py3-none-any.whl (54 kB)\n",
      "Requirement already satisfied: beautifulsoup4 in c:\\users\\1046619\\anaconda3\\envs\\actumlogos-cpu\\lib\\site-packages (from py3-pinterest) (4.9.3)\n",
      "Requirement already satisfied: requests in c:\\users\\1046619\\anaconda3\\envs\\actumlogos-cpu\\lib\\site-packages (from py3-pinterest) (2.22.0)\n",
      "Requirement already satisfied: soupsieve>1.2; python_version >= \"3.0\" in c:\\users\\1046619\\anaconda3\\envs\\actumlogos-cpu\\lib\\site-packages (from beautifulsoup4->py3-pinterest) (2.0.1)\n",
      "Requirement already satisfied: chardet<3.1.0,>=3.0.2 in c:\\users\\1046619\\anaconda3\\envs\\actumlogos-cpu\\lib\\site-packages (from requests->py3-pinterest) (3.0.4)\n",
      "Requirement already satisfied: urllib3!=1.25.0,!=1.25.1,<1.26,>=1.21.1 in c:\\users\\1046619\\anaconda3\\envs\\actumlogos-cpu\\lib\\site-packages (from requests->py3-pinterest) (1.25.8)\n",
      "Requirement already satisfied: certifi>=2017.4.17 in c:\\users\\1046619\\anaconda3\\envs\\actumlogos-cpu\\lib\\site-packages (from requests->py3-pinterest) (2020.6.20)\n",
      "Requirement already satisfied: idna<2.9,>=2.5 in c:\\users\\1046619\\anaconda3\\envs\\actumlogos-cpu\\lib\\site-packages (from requests->py3-pinterest) (2.8)\n",
      "Installing collected packages: requests-toolbelt, py3-pinterest\n",
      "Successfully installed py3-pinterest-1.1.2 requests-toolbelt-0.9.1\n",
      "Note: you may need to restart the kernel to use updated packages.\n"
     ]
    }
   ],
   "source": [
    "pip install py3-pinterest"
   ]
  },
  {
   "cell_type": "code",
   "execution_count": 8,
   "metadata": {},
   "outputs": [],
   "source": [
    "from py3pin.Pinterest import Pinterest\n",
    "#User Credentials\n",
    "pinterest = Pinterest(email='', \n",
    "                      password='', \n",
    "                      username='', \n",
    "                      cred_root='cred root dir')"
   ]
  },
  {
   "cell_type": "code",
   "execution_count": 9,
   "metadata": {},
   "outputs": [
    {
     "data": {
      "text/plain": [
       "<Response [200]>"
      ]
     },
     "execution_count": 9,
     "metadata": {},
     "output_type": "execute_result"
    }
   ],
   "source": [
    "#pinterest.login()"
   ]
  },
  {
   "cell_type": "code",
   "execution_count": 15,
   "metadata": {},
   "outputs": [],
   "source": [
    "usern ='grupobbva'"
   ]
  },
  {
   "cell_type": "code",
   "execution_count": 36,
   "metadata": {},
   "outputs": [
    {
     "name": "stdout",
     "output_type": "stream",
     "text": [
      "{'show_creator_profile': True, 'image_large_url': 'https://i.pinimg.com/140x140_RS/90/d0/f3/90d0f353bf330eb96a5effae980fc8de.jpg', 'indexed': True, 'following_count': 1, 'profile_discovered_public': True, 'is_partner': True, 'eligible_profile_tabs': [{'id': '8780360904537', 'type': 'profiletab', 'tab_type': 1, 'name': 'Creados'}, {'id': '8780360904581', 'type': 'profiletab', 'tab_type': 0, 'name': 'Guardados'}], 'is_verified_merchant': False, 'show_engagement_tab': True, 'is_tastemaker': False, 'type': 'user', 'username': 'grupobbva', 'partner': {'contact_phone_country': {'code': '', 'phone_code': '0'}, 'contact_email': None, 'contact_phone': '', 'enable_profile_message': False, 'enable_profile_address': False, 'profile_place': None}, 'explicitly_followed_by_me': False, 'group_board_count': 0, 'about': 'Canal oficial de BBVA / BBVA official channel', 'native_pin_count': 0, 'has_catalog': False, 'joined_communities_count': 0, 'blocked_by_me': False, 'verified_identity': {'verified': True}, 'image_small_url': 'https://i.pinimg.com/30x30_RS/90/d0/f3/90d0f353bf330eb96a5effae980fc8de.jpg', 'full_name': 'BBVA', 'storefront_search_enabled': False, 'last_name': '', 'website_url': 'http://bbva.info/pinterest', 'has_custom_board_sorting_order': True, 'domain_url': None, 'has_shopping_showcase': False, 'id': '164874173766700068', 'explicit_user_following_count': 1, 'pins_done_count': 0, 'storefront_management_enabled': True, 'image_medium_url': 'https://i.pinimg.com/75x75_RS/90/d0/f3/90d0f353bf330eb96a5effae980fc8de.jpg', 'image_xlarge_url': 'https://i.pinimg.com/280x280_RS/90/d0/f3/90d0f353bf330eb96a5effae980fc8de.jpg', 'show_impressum': False, 'first_name': 'BBVA', 'has_showcase': False, 'listed_website_url': 'http://bbva.info/pinterest', 'domain_verified': False, 'impressum_url': None, 'show_discovered_feed': False, 'profile_reach': 36665, 'is_primary_website_verified': False, 'story_pin_count': 0, 'board_count': 8, 'location': '', 'video_pin_count': 53, 'profile_cover': {'video': None, 'source_id': '164874105047600983', 'images': None, 'type': 'profilecoversource', 'source': 'specific_board'}, 'pin_count': 103, 'interest_following_count': None, 'last_pin_save_time': 'Wed, 14 Oct 2020 10:54:41 +0000', 'follower_count': 244, 'repins_from': [], 'has_board': True}\n"
     ]
    }
   ],
   "source": [
    "user_profile = pinterest.get_user_overview('grupobbva')\n",
    "print(user_profile)"
   ]
  },
  {
   "cell_type": "code",
   "execution_count": 48,
   "metadata": {},
   "outputs": [
    {
     "name": "stdout",
     "output_type": "stream",
     "text": [
      "Verificada:  True\n",
      "Followers: 244\n",
      "Visitas por mes:  36665\n",
      "pin count:  103\n",
      "board_count:  8\n",
      "folloing:  1\n",
      "Video_pin_count:  53\n"
     ]
    }
   ],
   "source": [
    "boards = pinterest.boards(username=usern)\n",
    "print('Verificada: ',user_profile['verified_identity']['verified'])\n",
    "print('Followers:' , user_profile['follower_count'])\n",
    "print('Visitas por mes: ', user_profile['profile_reach'])\n",
    "print('pin count: ', user_profile['pin_count'])\n",
    "print('board_count: ',user_profile['board_count'])\n",
    "print('folloing: ', user_profile['following_count'])\n",
    "print('Video_pin_count: ', user_profile['video_pin_count'])\n",
    "\n",
    "\n"
   ]
  },
  {
   "cell_type": "code",
   "execution_count": 58,
   "metadata": {},
   "outputs": [
    {
     "ename": "AttributeError",
     "evalue": "'Pinterest' object has no attribute 'board_batch'",
     "output_type": "error",
     "traceback": [
      "\u001b[1;31m---------------------------------------------------------------------------\u001b[0m",
      "\u001b[1;31mAttributeError\u001b[0m                            Traceback (most recent call last)",
      "\u001b[1;32m<ipython-input-58-0675353335ad>\u001b[0m in \u001b[0;36m<module>\u001b[1;34m\u001b[0m\n\u001b[0;32m      1\u001b[0m \u001b[0mboards\u001b[0m \u001b[1;33m=\u001b[0m \u001b[0mpinterest\u001b[0m\u001b[1;33m.\u001b[0m\u001b[0mboards\u001b[0m\u001b[1;33m(\u001b[0m\u001b[0musername\u001b[0m\u001b[1;33m=\u001b[0m\u001b[0musern\u001b[0m\u001b[1;33m)\u001b[0m\u001b[1;33m\u001b[0m\u001b[1;33m\u001b[0m\u001b[0m\n\u001b[1;32m----> 2\u001b[1;33m \u001b[0mpinterest\u001b[0m\u001b[1;33m.\u001b[0m\u001b[0mboard_batch\u001b[0m\u001b[1;33m\u001b[0m\u001b[1;33m\u001b[0m\u001b[0m\n\u001b[0m\u001b[0;32m      3\u001b[0m \u001b[1;31m#pins = pinterest.board_feed(board_id=board_id3)\u001b[0m\u001b[1;33m\u001b[0m\u001b[1;33m\u001b[0m\u001b[1;33m\u001b[0m\u001b[0m\n",
      "\u001b[1;31mAttributeError\u001b[0m: 'Pinterest' object has no attribute 'board_batch'"
     ]
    }
   ],
   "source": [
    "boards = pinterest.boards(username=usern)\n",
    "pinterest.board_batch\n",
    "#pins = pinterest.board_feed(board_id=board_id3)"
   ]
  },
  {
   "cell_type": "code",
   "execution_count": 19,
   "metadata": {},
   "outputs": [
    {
     "ename": "NameError",
     "evalue": "name 'board_id' is not defined",
     "output_type": "error",
     "traceback": [
      "\u001b[1;31m---------------------------------------------------------------------------\u001b[0m",
      "\u001b[1;31mNameError\u001b[0m                                 Traceback (most recent call last)",
      "\u001b[1;32m<ipython-input-19-e5b519f2864f>\u001b[0m in \u001b[0;36m<module>\u001b[1;34m\u001b[0m\n\u001b[1;32m----> 1\u001b[1;33m \u001b[0mpins\u001b[0m \u001b[1;33m=\u001b[0m \u001b[0mpinterest\u001b[0m\u001b[1;33m.\u001b[0m\u001b[0mboard_feed\u001b[0m\u001b[1;33m(\u001b[0m\u001b[0mboard_id\u001b[0m\u001b[1;33m=\u001b[0m\u001b[0mboard_id\u001b[0m\u001b[1;33m)\u001b[0m\u001b[1;33m\u001b[0m\u001b[1;33m\u001b[0m\u001b[0m\n\u001b[0m",
      "\u001b[1;31mNameError\u001b[0m: name 'board_id' is not defined"
     ]
    }
   ],
   "source": [
    "pins = pinterest.board_feed(board_id=board_id)"
   ]
  },
  {
   "cell_type": "code",
   "execution_count": 20,
   "metadata": {},
   "outputs": [
    {
     "name": "stdout",
     "output_type": "stream",
     "text": [
      "[{'last_pin_save_time': 'Fri, 16 Oct 2020 20:58:50 +0000', 'board_count': 40, 'image_medium_url': 'https://i.pinimg.com/75x75_RS/e5/2b/da/e52bda498e2e19340d0bd013c3516454.jpg', 'explicitly_followed_by_me': False, 'verified_identity': {'verified': True}, 'pin_thumbnail_urls': ['https://i.pinimg.com/75x75/f3/6f/92/f36f928aacab9988185f7f180f837882.jpg', 'https://i.pinimg.com/75x75/f3/6f/92/f36f928aacab9988185f7f180f837882.jpg', 'https://i.pinimg.com/75x75/9c/7c/b4/9c7cb41404f3fe1f7a934e5a4d4db658.jpg', 'https://i.pinimg.com/75x75/85/07/66/8507661e7e732789e7274771e4ccc1e7.jpg', 'https://i.pinimg.com/75x75/a4/7b/d5/a47bd5c650760d1b329319b3a5ac40b7.jpg'], 'id': '657736857987225342', 'image_xlarge_url': 'https://i.pinimg.com/280x280_RS/e5/2b/da/e52bda498e2e19340d0bd013c3516454.jpg', 'is_default_image': False, 'full_name': 'World Health Organization (WHO)', 'follower_count': 42353, 'recent_pin_images': {'192x': [{'url': 'https://i.pinimg.com/192x/f3/6f/92/f36f928aacab9988185f7f180f837882.jpg', 'width': 192, 'height': 108, 'dominant_color': '#B2976A'}, {'url': 'https://i.pinimg.com/192x/9c/7c/b4/9c7cb41404f3fe1f7a934e5a4d4db658.jpg', 'width': 192, 'height': 192, 'dominant_color': '#A8A8A8'}, {'url': 'https://i.pinimg.com/192x/85/07/66/8507661e7e732789e7274771e4ccc1e7.jpg', 'width': 192, 'height': 192, 'dominant_color': '#BEBEBE'}, {'url': 'https://i.pinimg.com/192x/a4/7b/d5/a47bd5c650760d1b329319b3a5ac40b7.jpg', 'width': 192, 'height': 192, 'dominant_color': '#474747'}], '222x': [{'url': 'https://i.pinimg.com/222x/f3/6f/92/f36f928aacab9988185f7f180f837882.jpg', 'width': 222, 'height': 124, 'dominant_color': '#B2976A'}, {'url': 'https://i.pinimg.com/222x/9c/7c/b4/9c7cb41404f3fe1f7a934e5a4d4db658.jpg', 'width': 222, 'height': 222, 'dominant_color': '#A8A8A8'}, {'url': 'https://i.pinimg.com/222x/85/07/66/8507661e7e732789e7274771e4ccc1e7.jpg', 'width': 222, 'height': 222, 'dominant_color': '#474747'}, {'url': 'https://i.pinimg.com/222x/a4/7b/d5/a47bd5c650760d1b329319b3a5ac40b7.jpg', 'width': 222, 'height': 222, 'dominant_color': '#F0F0F0'}]}, 'pin_count': 412, 'blocked_by_me': False, 'type': 'user', 'username': 'worldhealthorganization', 'image_large_url': 'https://i.pinimg.com/140x140_RS/e5/2b/da/e52bda498e2e19340d0bd013c3516454.jpg', 'domain_verified': True}]\n"
     ]
    }
   ],
   "source": [
    "following_batch = pinterest.get_following(username=usern)\n",
    "print(following_batch)"
   ]
  },
  {
   "cell_type": "code",
   "execution_count": 25,
   "metadata": {},
   "outputs": [
    {
     "ename": "NameError",
     "evalue": "name 'upload_pin' is not defined",
     "output_type": "error",
     "traceback": [
      "\u001b[1;31m---------------------------------------------------------------------------\u001b[0m",
      "\u001b[1;31mNameError\u001b[0m                                 Traceback (most recent call last)",
      "\u001b[1;32m<ipython-input-25-6024ba940d06>\u001b[0m in \u001b[0;36m<module>\u001b[1;34m\u001b[0m\n\u001b[0;32m      1\u001b[0m \u001b[1;32mimport\u001b[0m \u001b[0mjson\u001b[0m\u001b[1;33m\u001b[0m\u001b[1;33m\u001b[0m\u001b[0m\n\u001b[0;32m      2\u001b[0m \u001b[1;33m\u001b[0m\u001b[0m\n\u001b[1;32m----> 3\u001b[1;33m pin_response = upload_pin(board_id='',\n\u001b[0m\u001b[0;32m      4\u001b[0m              \u001b[0mimage_path\u001b[0m\u001b[1;33m=\u001b[0m\u001b[1;34m'test.png'\u001b[0m\u001b[1;33m,\u001b[0m\u001b[1;33m\u001b[0m\u001b[1;33m\u001b[0m\u001b[0m\n\u001b[0;32m      5\u001b[0m              \u001b[0mdescription\u001b[0m\u001b[1;33m=\u001b[0m\u001b[1;34m'TESTING PIN FUNCTIONALITY WITH ID FETCHING'\u001b[0m\u001b[1;33m,\u001b[0m\u001b[1;33m\u001b[0m\u001b[1;33m\u001b[0m\u001b[0m\n",
      "\u001b[1;31mNameError\u001b[0m: name 'upload_pin' is not defined"
     ]
    }
   ],
   "source": [
    "import json\n",
    "\n",
    "pin_response = upload_pin(board_id='',\n",
    "             image_path='test.png',\n",
    "             description='TESTING PIN FUNCTIONALITY WITH ID FETCHING',\n",
    "             title='Foobar Barfood',\n",
    "             section_id=None,\n",
    "             link='')\n",
    "\n",
    "response_data = json.loads(pin_response.content)"
   ]
  },
  {
   "cell_type": "code",
   "execution_count": null,
   "metadata": {},
   "outputs": [],
   "source": [
    "print('Followers:' , boards['follower_count'])\n",
    "print('Visitas por mes: ', boards['follower_count'])\n",
    "print('pin count: ', boards['pin_count'])\n",
    "print('board_count: ',boards['board_count'])\n",
    "print('folloing: ', boards['following_count'])\n",
    "print('Video_pin_count: ', boards['video_pin_count'])"
   ]
  },
  {
   "cell_type": "code",
   "execution_count": 42,
   "metadata": {},
   "outputs": [
    {
     "ename": "TypeError",
     "evalue": "'list' object is not callable",
     "output_type": "error",
     "traceback": [
      "\u001b[1;31m---------------------------------------------------------------------------\u001b[0m",
      "\u001b[1;31mTypeError\u001b[0m                                 Traceback (most recent call last)",
      "\u001b[1;32m<ipython-input-42-9870cb0ce33d>\u001b[0m in \u001b[0;36m<module>\u001b[1;34m\u001b[0m\n\u001b[1;32m----> 1\u001b[1;33m \u001b[0mboards\u001b[0m\u001b[1;33m(\u001b[0m\u001b[1;34m'follower_count'\u001b[0m\u001b[1;33m)\u001b[0m\u001b[1;33m\u001b[0m\u001b[1;33m\u001b[0m\u001b[0m\n\u001b[0m",
      "\u001b[1;31mTypeError\u001b[0m: 'list' object is not callable"
     ]
    }
   ],
   "source": [
    "boards('follower_count')"
   ]
  },
  {
   "cell_type": "code",
   "execution_count": 46,
   "metadata": {},
   "outputs": [
    {
     "name": "stdout",
     "output_type": "stream",
     "text": [
      "{'is_partner': False, 'type': 'user', 'has_custom_board_sorting_order': True, 'profile_reach': -1, 'storefront_management_enabled': True, 'board_count': 46, 'last_pin_save_time': 'Thu, 30 Aug 2018 14:29:52 +0000', 'image_medium_url': 'https://i.pinimg.com/75x75_RS/b6/0f/45/b60f45a86f71db4e94a953d9c9d1f2a4.jpg', 'group_board_count': 0, 'pin_count': 488, 'verified_identity': {}, 'indexed': True, 'explicitly_followed_by_me': False, 'joined_communities_count': 0, 'website_url': 'http://www.santander.com/', 'video_pin_count': 0, 'domain_verified': False, 'profile_discovered_public': None, 'id': '404057535226589005', 'show_discovered_feed': None, 'follower_count': 168, 'show_creator_profile': False, 'show_impressum': False, 'last_name': '', 'image_large_url': 'https://i.pinimg.com/140x140_RS/b6/0f/45/b60f45a86f71db4e94a953d9c9d1f2a4.jpg', 'has_showcase': False, 'is_tastemaker': False, 'eligible_profile_tabs': [{'id': '8748437621117', 'type': 'profiletab', 'tab_type': 0, 'name': 'Guardados'}], 'story_pin_count': 0, 'blocked_by_me': False, 'about': 'Canal oficial de comunicación corporativa de Banco Santander', 'native_pin_count': 0, 'is_primary_website_verified': False, 'pins_done_count': 0, 'location': 'Madrid', 'show_engagement_tab': False, 'storefront_search_enabled': False, 'profile_cover': {'id': '404057535226589005'}, 'impressum_url': None, 'first_name': 'Banco Santander', 'image_xlarge_url': 'https://i.pinimg.com/280x280_RS/b6/0f/45/b60f45a86f71db4e94a953d9c9d1f2a4.jpg', 'full_name': 'Banco Santander', 'username': 'gruposantander', 'interest_following_count': None, 'is_verified_merchant': False, 'listed_website_url': 'http://www.santander.com/', 'has_catalog': False, 'domain_url': 'www.santander.com', 'explicit_user_following_count': 0, 'image_small_url': 'https://i.pinimg.com/30x30_RS/b6/0f/45/b60f45a86f71db4e94a953d9c9d1f2a4.jpg', 'following_count': 0, 'partner': None, 'has_shopping_showcase': False, 'repins_from': [], 'has_board': True}\n"
     ]
    }
   ],
   "source": [
    "#gruposantander\n",
    "user_profile_santander = pinterest.get_user_overview('gruposantander')\n",
    "print(user_profile_santander)"
   ]
  },
  {
   "cell_type": "code",
   "execution_count": null,
   "metadata": {},
   "outputs": [],
   "source": [
    "BUSCAR DENTRO DEL BOARD DE COVID ALCANZAR COMENTARIOS O BUSCAR INTERACCIÓN CON BBVA"
   ]
  },
  {
   "cell_type": "code",
   "execution_count": 125,
   "metadata": {},
   "outputs": [],
   "source": [
    "BBVA_BOARDS= pinterest.search(scope='boards', query='bbva')\n",
    "BBVA_PINS = pinterest.search(scope='pins', query='bbva')\n",
    "SANTANDER_BOARDS = pinterest.search(scope='boards', query='santander')\n",
    "SANTANDER_PINS = pinterest.search(scope='pins', query='santander')\n",
    "CITIBANAMEX_BOARDS = pinterest.search(scope='boards', query='citibanamex')\n",
    "CITIBANAMEX_PINS = pinterest.search(scope='pins', query='citibanamex')"
   ]
  },
  {
   "cell_type": "code",
   "execution_count": 128,
   "metadata": {},
   "outputs": [
    {
     "name": "stdout",
     "output_type": "stream",
     "text": [
      "Engage:  152.20081967213116\n"
     ]
    }
   ],
   "source": [
    "##Engage\n",
    "engage_bbva = (len(BBVA_BOARDS) + len(BBVA_PINS) + user_profile['profile_reach'])/user_profile['follower_count']\n",
    "print('Engage: ', engage)\n",
    "\n",
    "engage_santander=0\n",
    "engage_citibanamex=0"
   ]
  },
  {
   "cell_type": "code",
   "execution_count": 117,
   "metadata": {},
   "outputs": [
    {
     "data": {
      "text/plain": [
       "{'privacy': 'public',\n",
       " 'pin_thumbnail_urls': ['https://i.pinimg.com/150x150/20/46/ed/2046ed3703ba4380350ebc6607453436.jpg',\n",
       "  'https://i.pinimg.com/150x150/69/ac/f0/69acf03a1c03fb5a79b030a8b3898876.jpg',\n",
       "  'https://i.pinimg.com/150x150/51/57/19/5157195b40be4a6f9a033cf487e85e7f.jpg',\n",
       "  'https://i.pinimg.com/150x150/36/de/4a/36de4a7ca2d5c175510a96c935846922.jpg'],\n",
       " 'collaborating_users': [],\n",
       " 'name': 'El Despacho',\n",
       " 'image_cover_url': 'https://i.pinimg.com/200x150/74/ab/ed/74abed9b2bcb6ffd3f3af0e5e4b27846.jpg',\n",
       " 'cover_pin': {'custom_cover': True,\n",
       "  'scale': 2.14406779661,\n",
       "  'timestamp': 1416244908,\n",
       "  'pin_id': '406379566350569922',\n",
       "  'image_signature': '74abed9b2bcb6ffd3f3af0e5e4b27846',\n",
       "  'crop': [141, -1],\n",
       "  'image_url': 'https://i.pinimg.com/236x/74/ab/ed/74abed9b2bcb6ffd3f3af0e5e4b27846.jpg',\n",
       "  'image_size': [236, None],\n",
       "  'size': [222, 150]},\n",
       " 'image_cover_hd_url': 'https://i.pinimg.com/550x/74/ab/ed/74abed9b2bcb6ffd3f3af0e5e4b27846.jpg',\n",
       " 'collaborated_by_me': False,\n",
       " 'url': '/navascusi/el-despacho/',\n",
       " 'cover_images': {'216x146': {'url': 'https://i.pinimg.com/216x146/74/ab/ed/74abed9b2bcb6ffd3f3af0e5e4b27846.jpg',\n",
       "   'width': 216,\n",
       "   'height': 146},\n",
       "  '400x300': {'url': 'https://i.pinimg.com/400x300/74/ab/ed/74abed9b2bcb6ffd3f3af0e5e4b27846.jpg',\n",
       "   'width': 400,\n",
       "   'height': 300}},\n",
       " 'access': [],\n",
       " 'type': 'board',\n",
       " 'is_collaborative': False,\n",
       " 'layout': 'default',\n",
       " 'id': '406379635065065349',\n",
       " 'pin_count': 27,\n",
       " 'owner': {'explicitly_followed_by_me': False,\n",
       "  'image_small_url': 'https://i.pinimg.com/30x30_RS/24/ba/a0/24baa07e48c724d890484b32773f8e60.jpg',\n",
       "  'follower_count': 10,\n",
       "  'image_large_url': 'https://i.pinimg.com/140x140_RS/24/ba/a0/24baa07e48c724d890484b32773f8e60.jpg',\n",
       "  'username': 'navascusi',\n",
       "  'type': 'user',\n",
       "  'full_name': 'Navas Cusí Abogados',\n",
       "  'image_medium_url': 'https://i.pinimg.com/75x75_RS/24/ba/a0/24baa07e48c724d890484b32773f8e60.jpg',\n",
       "  'verified_identity': {},\n",
       "  'id': '406379703784461722',\n",
       "  'is_default_image': False,\n",
       "  'is_verified_merchant': False,\n",
       "  'domain_verified': True},\n",
       " 'followed_by_me': False,\n",
       " 'description': 'La firma ha obtenido más de 180 sentencias favorables obteniendo la anulación y recuperación de la inversión en productos financieros como: swaps, cláusulas suelo, preferentes o subordinadas, bonos convertibles, hipotecas multidivisa, etc.\\n\\nNos avalan nuestros éxitos frente a las principales entidades bancarias de todo el país como Bankia, BBVA, Banco Popular, Banco Santander, Caixabank, Banco Sabadell, LiberBank, Banco Mare Nostrum, etc.',\n",
       " 'image_thumbnail_url': 'https://i.pinimg.com/upload/406379635065065349_board_thumbnail_2016-05-21-02-30-22_55794_60.jpg',\n",
       " 'section_count': 0}"
      ]
     },
     "execution_count": 117,
     "metadata": {},
     "output_type": "execute_result"
    }
   ],
   "source": [
    "search_batch[4]"
   ]
  },
  {
   "cell_type": "code",
   "execution_count": null,
   "metadata": {},
   "outputs": [],
   "source": []
  }
 ],
 "metadata": {
  "kernelspec": {
   "display_name": "Python 3",
   "language": "python",
   "name": "python3"
  },
  "language_info": {
   "codemirror_mode": {
    "name": "ipython",
    "version": 3
   },
   "file_extension": ".py",
   "mimetype": "text/x-python",
   "name": "python",
   "nbconvert_exporter": "python",
   "pygments_lexer": "ipython3",
   "version": "3.6.10"
  }
 },
 "nbformat": 4,
 "nbformat_minor": 4
}
