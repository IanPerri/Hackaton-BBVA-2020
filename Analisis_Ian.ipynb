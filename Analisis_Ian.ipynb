{
 "cells": [
  {
   "cell_type": "code",
   "execution_count": 2,
   "metadata": {},
   "outputs": [
    {
     "name": "stdout",
     "output_type": "stream",
     "text": [
      "                                          id      screen_Name     location  \\\n",
      "0             Siuxsy_2020-10-17;19:12:05_140           Siuxsy          NaN   \n",
      "1      MLiceranNieto_2020-10-17;19:11:13_190    MLiceranNieto          NaN   \n",
      "2    Tribunadeportes_2020-10-17;19:11:06_154  Tribunadeportes  Puebla, Pue   \n",
      "3        glumbravo26_2020-10-17;19:10:10_140      glumbravo26          D.F   \n",
      "4       Evacorredoira_2020-10-17;19:09:54_62    Evacorredoira    Barcelona   \n",
      "..                                       ...              ...          ...   \n",
      "174      SantanderMx_2020-10-17;18:36:11_106      SantanderMx       México   \n",
      "175      SantanderMx_2020-10-17;18:33:48_176      SantanderMx       México   \n",
      "176      SantanderMx_2020-10-17;17:39:47_237      SantanderMx       México   \n",
      "177      SantanderMx_2020-10-17;17:09:35_183      SantanderMx       México   \n",
      "178      SantanderMx_2020-10-17;16:53:25_174      SantanderMx       México   \n",
      "\n",
      "             created_at lang  \\\n",
      "0   2020-10-17 19:12:05   es   \n",
      "1   2020-10-17 19:11:13   es   \n",
      "2   2020-10-17 19:11:06   es   \n",
      "3   2020-10-17 19:10:10   es   \n",
      "4   2020-10-17 19:09:54   es   \n",
      "..                  ...  ...   \n",
      "174 2020-10-17 18:36:11   es   \n",
      "175 2020-10-17 18:33:48   es   \n",
      "176 2020-10-17 17:39:47   es   \n",
      "177 2020-10-17 17:09:35   es   \n",
      "178 2020-10-17 16:53:25   es   \n",
      "\n",
      "                                             full_text  favorite_count  \\\n",
      "0    RT @Xaguzar2: El BBVA, a partir de enero, va a...               0   \n",
      "1    @Marietta170772 De todos...\\nPero hago lo que ...               0   \n",
      "2    🎽🥺 ¡Faltó mucho! El @ClubPueblaFem no pudo ano...               0   \n",
      "3    RT @NARIZROJAAC: Hoy la meta es llegar a $200,...               0   \n",
      "4    Ei @bbva , cuánto abuso. Es indecente. https:/...               0   \n",
      "..                                                 ...             ...   \n",
      "174  @glgatti Buenas tardes. Conoce la disponibilid...               0   \n",
      "175  @chrisnavarro25 Buenas tardes, por favor comun...               0   \n",
      "176  @JoseCardenas1 Al respecto les compartimos los...               0   \n",
      "177  @Mario_salazar66 Buenas tardes Mario, por favo...               0   \n",
      "178  @Rosalindagvm Buenas tardes, por favor comuníc...               0   \n",
      "\n",
      "     retweet_count hashtag  mention               source  followers  friends  \\\n",
      "0              276    NONE        1  Twitter for Android        462     1510   \n",
      "1                0    NONE        1  Twitter for Android        442      246   \n",
      "2                0    NONE        1   Twitter for iPhone       5568      470   \n",
      "3               39    NONE        1  Twitter for Android        142      285   \n",
      "4                0    NONE        1  Twitter for Android       1731     4370   \n",
      "..             ...     ...      ...                  ...        ...      ...   \n",
      "174              0    NONE        1  Sprinklr Publishing     300574       25   \n",
      "175              0    NONE        1  Sprinklr Publishing     300574       25   \n",
      "176              1    NONE        1      Twitter Web App     300574       25   \n",
      "177              0    NONE        1  Sprinklr Publishing     300574       25   \n",
      "178              0    NONE        1  Sprinklr Publishing     300574       25   \n",
      "\n",
      "     verified      banco pais Sentiment  caracteres procedencia   tema  \n",
      "0       False       bbva   GL  Negativo         140     usuario  banco  \n",
      "1       False       bbva   GL  Negativo         190     usuario  banco  \n",
      "2       False       bbva   GL  Positivo         154     usuario  banco  \n",
      "3       False       bbva   GL  Positivo         140     usuario  banco  \n",
      "4       False       bbva   GL  Negativo          62     usuario  banco  \n",
      "..        ...        ...  ...       ...         ...         ...    ...  \n",
      "174      True  santander   MX  Positivo         106     oficial  banco  \n",
      "175      True  santander   MX  Positivo         176     oficial  banco  \n",
      "176      True  santander   MX  Negativo         237     oficial  banco  \n",
      "177      True  santander   MX  Positivo         183     oficial  banco  \n",
      "178      True  santander   MX  Positivo         174     oficial  banco  \n",
      "\n",
      "[179 rows x 20 columns]\n"
     ]
    }
   ],
   "source": [
    "import pandas as pd\n",
    "#path='D:\\Usuario\\Mis_Documentos\\BBVAHackaton\\Metricas_Twitter'\n",
    "df = pd.read_excel (r'D:\\Usuario\\Mis_Documentos\\BBVAHackaton\\Metricas_Twitter\\BBVA.xlsx')\n",
    "print (df)"
   ]
  },
  {
   "cell_type": "code",
   "execution_count": 110,
   "metadata": {},
   "outputs": [
    {
     "name": "stdout",
     "output_type": "stream",
     "text": [
      "                                        id      screen_Name     location  \\\n",
      "0           Siuxsy_2020-10-17;19:12:05_140           Siuxsy          NaN   \n",
      "1    MLiceranNieto_2020-10-17;19:11:13_190    MLiceranNieto          NaN   \n",
      "2  Tribunadeportes_2020-10-17;19:11:06_154  Tribunadeportes  Puebla, Pue   \n",
      "3      glumbravo26_2020-10-17;19:10:10_140      glumbravo26          D.F   \n",
      "4     Evacorredoira_2020-10-17;19:09:54_62    Evacorredoira    Barcelona   \n",
      "\n",
      "           created_at lang                                          full_text  \\\n",
      "0 2020-10-17 19:12:05   es  RT @Xaguzar2: El BBVA, a partir de enero, va a...   \n",
      "1 2020-10-17 19:11:13   es  @Marietta170772 De todos...\\nPero hago lo que ...   \n",
      "2 2020-10-17 19:11:06   es  🎽🥺 ¡Faltó mucho! El @ClubPueblaFem no pudo ano...   \n",
      "3 2020-10-17 19:10:10   es  RT @NARIZROJAAC: Hoy la meta es llegar a $200,...   \n",
      "4 2020-10-17 19:09:54   es  Ei @bbva , cuánto abuso. Es indecente. https:/...   \n",
      "\n",
      "   favorite_count  retweet_count hashtag  mention               source  \\\n",
      "0               0            276    NONE        1  Twitter for Android   \n",
      "1               0              0    NONE        1  Twitter for Android   \n",
      "2               0              0    NONE        1   Twitter for iPhone   \n",
      "3               0             39    NONE        1  Twitter for Android   \n",
      "4               0              0    NONE        1  Twitter for Android   \n",
      "\n",
      "   followers  friends  verified banco pais Sentiment  caracteres procedencia  \\\n",
      "0        462     1510     False  bbva   GL  Negativo         140     usuario   \n",
      "1        442      246     False  bbva   GL  Negativo         190     usuario   \n",
      "2       5568      470     False  bbva   GL  Positivo         154     usuario   \n",
      "3        142      285     False  bbva   GL  Positivo         140     usuario   \n",
      "4       1731     4370     False  bbva   GL  Negativo          62     usuario   \n",
      "\n",
      "    tema  \n",
      "0  banco  \n",
      "1  banco  \n",
      "2  banco  \n",
      "3  banco  \n",
      "4  banco  \n"
     ]
    }
   ],
   "source": [
    "print(df.head())"
   ]
  },
  {
   "cell_type": "code",
   "execution_count": 9,
   "metadata": {},
   "outputs": [
    {
     "name": "stdout",
     "output_type": "stream",
     "text": [
      "Number of positive tweets:  47\n",
      "Number of negative tweets:  69\n"
     ]
    }
   ],
   "source": [
    "import numpy as np\n",
    "\n",
    "all_positiv_tw=np.sum((df.Sentiment == 'Positivo') & (df.procedencia == 'usuario'))\n",
    "print('Number of positive tweets: ', all_positiv_tw)\n",
    "all_negativ_tw=np.sum((df.Sentiment == 'Negativo') & (df.procedencia == 'usuario'))\n",
    "print('Number of negative tweets: ', all_negativ_tw)"
   ]
  },
  {
   "cell_type": "code",
   "execution_count": 10,
   "metadata": {},
   "outputs": [
    {
     "data": {
      "image/png": "[encoded data removed]",
      "text/plain": [
       "<Figure size 360x360 with 1 Axes>"
      ]
     },
     "metadata": {},
     "output_type": "display_data"
    }
   ],
   "source": [
    "import matplotlib.pyplot as plt \n",
    "# Declare a figure with a custom size\n",
    "fig = plt.figure(figsize=(5, 5))\n",
    "# labels for the two classes\n",
    "labels = 'Tweets Positivos', 'Tweets Negativos'\n",
    "# Sizes for each slide\n",
    "sizes = [all_positiv_tw, all_negativ_tw]\n",
    "# Declare pie chart, where the slices will be ordered and plotted counter-clockwise:\n",
    "plt.pie(sizes, labels=labels, autopct='%1.1f%%',\n",
    "shadow=True, startangle=90)\n",
    "# Equal aspect ratio ensures that pie is drawn as a circle.\n",
    "plt.axis('equal')\n",
    "\n",
    "# Display the chart\n",
    "plt.show()"
   ]
  },
  {
   "cell_type": "code",
   "execution_count": 11,
   "metadata": {},
   "outputs": [
    {
     "name": "stdout",
     "output_type": "stream",
     "text": [
      "Cuentas verificadas expresando comentarios negativos 2\n",
      "Cuentas verificadas expresando comentarios positivos 11\n",
      "Cuentas no verificadas expresando comentarios negativos 67\n",
      "Cuentas no verificadas expresando comentarios positivos 36\n"
     ]
    },
    {
     "data": {
      "image/png": "[encoded data removed]",
      "text/plain": [
       "<Figure size 360x360 with 1 Axes>"
      ]
     },
     "metadata": {},
     "output_type": "display_data"
    },
    {
     "data": {
      "image/png": "[encoded data removed]",
      "text/plain": [
       "<Figure size 360x360 with 1 Axes>"
      ]
     },
     "metadata": {},
     "output_type": "display_data"
    }
   ],
   "source": [
    "Cuentas_verif_negativas=np.sum((df.verified == True) & (df.Sentiment == 'Negativo') & (df.procedencia == 'usuario'))\n",
    "print('Cuentas verificadas expresando comentarios negativos', Cuentas_verif_negativas)\n",
    "\n",
    "Cuentas_verif_positivas=np.sum((df.verified == True) & (df.Sentiment == 'Positivo') & (df.procedencia == 'usuario'))\n",
    "print('Cuentas verificadas expresando comentarios positivos', Cuentas_verif_positivas)\n",
    "\n",
    "Cuentas_Noverif_negativas=np.sum((df.verified == False) & (df.Sentiment == 'Negativo') & (df.procedencia == 'usuario'))\n",
    "print('Cuentas no verificadas expresando comentarios negativos', Cuentas_Noverif_negativas)\n",
    "\n",
    "Cuentas_Noverif_positivas=np.sum((df.verified == False) & (df.Sentiment == 'Positivo') & (df.procedencia == 'usuario'))\n",
    "print('Cuentas no verificadas expresando comentarios positivos', Cuentas_Noverif_positivas)\n",
    "\n",
    "# Declare a figure with a custom size\n",
    "fig = plt.figure(figsize=(5, 5))\n",
    "# labels for the two classes\n",
    "labels = 'Tweets Positivos C_Verif', 'Tweets Negativos C_verif'\n",
    "# Sizes for each slide\n",
    "sizes = [Cuentas_verif_positivas, Cuentas_verif_negativas]\n",
    "# Declare pie chart, where the slices will be ordered and plotted counter-clockwise:\n",
    "plt.pie(sizes, labels=labels, autopct='%1.1f%%',\n",
    "shadow=True, startangle=90)\n",
    "# Equal aspect ratio ensures that pie is drawn as a circle.\n",
    "plt.axis('equal')\n",
    "\n",
    "# Display the chart\n",
    "plt.show()\n",
    "\n",
    "\n",
    "# Declare a figure with a custom size\n",
    "fig = plt.figure(figsize=(5, 5))\n",
    "# labels for the two classes\n",
    "labels = 'Tweets Positivos C_No_Verif', 'Tweets Negativos C_No_verif'\n",
    "# Sizes for each slide\n",
    "sizes = [Cuentas_Noverif_positivas, Cuentas_Noverif_negativas]\n",
    "# Declare pie chart, where the slices will be ordered and plotted counter-clockwise:\n",
    "plt.pie(sizes, labels=labels, autopct='%1.1f%%',\n",
    "shadow=True, startangle=90)\n",
    "# Equal aspect ratio ensures that pie is drawn as a circle.\n",
    "plt.axis('equal')\n",
    "\n",
    "# Display the chart\n",
    "plt.show()"
   ]
  },
  {
   "cell_type": "code",
   "execution_count": 12,
   "metadata": {},
   "outputs": [
    {
     "name": "stdout",
     "output_type": "stream",
     "text": [
      "Number of positive tweets:  96\n",
      "Number of negative tweets:  65\n",
      "Cuentas verificadas expresando comentarios negativos 2\n",
      "Cuentas verificadas expresando comentarios positivos 11\n",
      "Cuentas no verificadas expresando comentarios negativos 52\n",
      "Cuentas no verificadas expresando comentarios positivos 33\n"
     ]
    }
   ],
   "source": [
    "\n",
    "  \n",
    "# sorting by first name \n",
    "#data.sort_values(\"First Name\", inplace = True) \n",
    "  \n",
    "# dropping ALL duplicte values \n",
    "df_c1= df.drop_duplicates(subset=['full_text'])\n",
    "\n",
    "#print(df_c1)\n",
    "# displaying data \n",
    "all_positiv_tw=np.sum(df_c1.Sentiment == 'Positivo')\n",
    "print('Number of positive tweets: ', all_positiv_tw)\n",
    "all_negativ_tw=np.sum(df_c1.Sentiment == 'Negativo')\n",
    "print('Number of negative tweets: ', all_negativ_tw)\n",
    "\n",
    "Cuentas_verif_negativas=np.sum((df_c1.verified == True) & (df_c1.Sentiment == 'Negativo') & (df_c1.procedencia == 'usuario'))\n",
    "print('Cuentas verificadas expresando comentarios negativos', Cuentas_verif_negativas)\n",
    "\n",
    "Cuentas_verif_positivas=np.sum((df_c1.verified == True) & (df_c1.Sentiment == 'Positivo') & (df_c1.procedencia == 'usuario'))\n",
    "print('Cuentas verificadas expresando comentarios positivos', Cuentas_verif_positivas)\n",
    "\n",
    "Cuentas_Noverif_negativas=np.sum((df_c1.verified == False) & (df_c1.Sentiment == 'Negativo') & (df_c1.procedencia == 'usuario'))\n",
    "print('Cuentas no verificadas expresando comentarios negativos', Cuentas_Noverif_negativas)\n",
    "\n",
    "Cuentas_Noverif_positivas=np.sum((df_c1.verified == False) & (df_c1.Sentiment == 'Positivo') & (df_c1.procedencia == 'usuario'))\n",
    "print('Cuentas no verificadas expresando comentarios positivos', Cuentas_Noverif_positivas)"
   ]
  },
  {
   "cell_type": "code",
   "execution_count": 13,
   "metadata": {},
   "outputs": [
    {
     "name": "stdout",
     "output_type": "stream",
     "text": [
      "0      Twitter for Android\n",
      "1      Twitter for Android\n",
      "2       Twitter for iPhone\n",
      "3      Twitter for Android\n",
      "4      Twitter for Android\n",
      "              ...         \n",
      "174    Sprinklr Publishing\n",
      "175    Sprinklr Publishing\n",
      "176        Twitter Web App\n",
      "177    Sprinklr Publishing\n",
      "178    Sprinklr Publishing\n",
      "Name: source, Length: 161, dtype: object\n"
     ]
    }
   ],
   "source": [
    "print(df_c1.source)"
   ]
  },
  {
   "cell_type": "code",
   "execution_count": 14,
   "metadata": {},
   "outputs": [
    {
     "name": "stdout",
     "output_type": "stream",
     "text": [
      "Usuarios apple: 27\n",
      "Usuarios android: 54\n",
      "Usuarios otros: 98\n"
     ]
    },
    {
     "data": {
      "image/png": "[encoded data removed]",
      "text/plain": [
       "<Figure size 360x360 with 1 Axes>"
      ]
     },
     "metadata": {},
     "output_type": "display_data"
    }
   ],
   "source": [
    "apple_users = np.sum(df.source == 'Twitter for Mac') + np.sum(df.source== 'Twitter for iPhone') + np.sum(df.source== 'Twitter for iPad')\n",
    "print('Usuarios apple:', apple_users)\n",
    "android_users = np.sum(df.source == 'Twitter for Android')\n",
    "print('Usuarios android:', android_users)\n",
    "otros_users=df.shape[0] - (apple_users + android_users)\n",
    "print('Usuarios otros:', otros_users)\n",
    "\n",
    "# Declare a figure with a custom size\n",
    "fig = plt.figure(figsize=(5, 5))\n",
    "# labels for the two classes\n",
    "labels = 'Apple', 'Android','Otros'\n",
    "# Sizes for each slide\n",
    "sizes = [apple_users, android_users, otros_users]\n",
    "# Declare pie chart, where the slices will be ordered and plotted counter-clockwise:\n",
    "plt.pie(sizes, labels=labels, autopct='%1.1f%%',\n",
    "shadow=True, startangle=90)\n",
    "# Equal aspect ratio ensures that pie is drawn as a circle.\n",
    "plt.axis('equal')\n",
    "\n",
    "# Display the chart\n",
    "plt.show()"
   ]
  },
  {
   "cell_type": "code",
   "execution_count": 15,
   "metadata": {},
   "outputs": [
    {
     "name": "stdout",
     "output_type": "stream",
     "text": [
      "179\n"
     ]
    },
    {
     "name": "stderr",
     "output_type": "stream",
     "text": [
      "C:\\Users\\1046619\\Anaconda3\\envs\\actumlogos-cpu\\lib\\site-packages\\ipykernel_launcher.py:4: RuntimeWarning: invalid value encountered in longlong_scalars\n",
      "  after removing the cwd from sys.path.\n"
     ]
    }
   ],
   "source": [
    "#Engagement per post\n",
    "engage=[]\n",
    "print(df.shape[0])\n",
    "engage=np.array([((df.iloc[x].retweet_count + df.iloc[x].favorite_count)/df.iloc[x].followers)*100 for x in range(df.shape[0])])\n"
   ]
  },
  {
   "cell_type": "code",
   "execution_count": 16,
   "metadata": {},
   "outputs": [
    {
     "name": "stdout",
     "output_type": "stream",
     "text": [
      "(179,)\n",
      "0.0\n"
     ]
    }
   ],
   "source": [
    "print(engage.shape)\n",
    "print(engage[4])"
   ]
  },
  {
   "cell_type": "code",
   "execution_count": 17,
   "metadata": {},
   "outputs": [
    {
     "name": "stdout",
     "output_type": "stream",
     "text": [
      "                                        id      screen_Name     location  \\\n",
      "0           Siuxsy_2020-10-17;19:12:05_140           Siuxsy          NaN   \n",
      "1    MLiceranNieto_2020-10-17;19:11:13_190    MLiceranNieto          NaN   \n",
      "2  Tribunadeportes_2020-10-17;19:11:06_154  Tribunadeportes  Puebla, Pue   \n",
      "3      glumbravo26_2020-10-17;19:10:10_140      glumbravo26          D.F   \n",
      "4     Evacorredoira_2020-10-17;19:09:54_62    Evacorredoira    Barcelona   \n",
      "\n",
      "           created_at lang                                          full_text  \\\n",
      "0 2020-10-17 19:12:05   es  RT @Xaguzar2: El BBVA, a partir de enero, va a...   \n",
      "1 2020-10-17 19:11:13   es  @Marietta170772 De todos...\\nPero hago lo que ...   \n",
      "2 2020-10-17 19:11:06   es  🎽🥺 ¡Faltó mucho! El @ClubPueblaFem no pudo ano...   \n",
      "3 2020-10-17 19:10:10   es  RT @NARIZROJAAC: Hoy la meta es llegar a $200,...   \n",
      "4 2020-10-17 19:09:54   es  Ei @bbva , cuánto abuso. Es indecente. https:/...   \n",
      "\n",
      "   favorite_count  retweet_count hashtag  mention  ... followers  friends  \\\n",
      "0               0            276    NONE        1  ...       462     1510   \n",
      "1               0              0    NONE        1  ...       442      246   \n",
      "2               0              0    NONE        1  ...      5568      470   \n",
      "3               0             39    NONE        1  ...       142      285   \n",
      "4               0              0    NONE        1  ...      1731     4370   \n",
      "\n",
      "   verified  banco pais Sentiment caracteres  procedencia   tema Engagement  \n",
      "0     False   bbva   GL  Negativo        140      usuario  banco  59.740260  \n",
      "1     False   bbva   GL  Negativo        190      usuario  banco   0.000000  \n",
      "2     False   bbva   GL  Positivo        154      usuario  banco   0.000000  \n",
      "3     False   bbva   GL  Positivo        140      usuario  banco  27.464789  \n",
      "4     False   bbva   GL  Negativo         62      usuario  banco   0.000000  \n",
      "\n",
      "[5 rows x 21 columns]\n"
     ]
    }
   ],
   "source": [
    "df['Engagement'] = engage \n",
    "print(df.head())"
   ]
  },
  {
   "cell_type": "code",
   "execution_count": 18,
   "metadata": {},
   "outputs": [
    {
     "data": {
      "text/plain": [
       "array(['bbva_peru', 'BBVAInnovation', 'BBVA_Mex', 'bbva',\n",
       "       'BBVAresponde_es', 'BBVARe_mx', 'BBVA_Colombia', 'BBVASeguros_mx',\n",
       "       'BBVAProvincial', 'BBVAResearch', 'bbva_argentina', 'BBVA_espana',\n",
       "       'Citibanamex', 'SantanderMx'], dtype=object)"
      ]
     },
     "execution_count": 18,
     "metadata": {},
     "output_type": "execute_result"
    }
   ],
   "source": [
    "\n",
    "sn = df[df['procedencia'] == 'oficial'].screen_Name\n",
    "sn.unique()"
   ]
  },
  {
   "cell_type": "code",
   "execution_count": 27,
   "metadata": {},
   "outputs": [
    {
     "name": "stdout",
     "output_type": "stream",
     "text": [
      "bbva_peru_engagement: 0.0\n",
      "BBVAInnovation_engagement: 0.00523852762450234\n",
      "BBVA_Mex_engagement: 0.002405233788724264\n",
      "bbva_engagement: 7.926492875668204e-05\n",
      "BBVAresponde_es_engagement: 0.0\n",
      "BBVARe_mx_engagement: 0.0\n",
      "BBVA_Colombia_engagement: 0.0\n",
      "BBVASeguros_mx_engagement: 0.0\n",
      "BBVAProvincial_engagement: 0.0034367646755579587\n",
      "BBVAResearch_engagement: 0.007176432595356849\n",
      "bbva_argentina_engagement: 0.0\n",
      "BBVA_espana_engagement: 0.0\n",
      "Citibanamex_engagement: 0.0015039817917937741\n",
      "SantanderMx_engagement: 0.0\n"
     ]
    }
   ],
   "source": [
    "bbva_peru_engage = df[df['screen_Name'] == 'bbva_peru'].Engagement\n",
    "#print(bbva_peru_engage.head())\n",
    "bbva_peru_engage_mean=np.median(bbva_peru_engage.iloc[:])\n",
    "print('bbva_peru_engagement:', bbva_peru_engage_mean)\n",
    "\n",
    "BBVAInnovation_engage = df[df['screen_Name'] == 'BBVAInnovation'].Engagement\n",
    "#print(bbva_peru_engage.head())\n",
    "BBVAInnovation_engage_mean=np.median(BBVAInnovation_engage.iloc[:])\n",
    "print('BBVAInnovation_engagement:', BBVAInnovation_engage_mean)\n",
    "\n",
    "BBVA_Mex_engage = df[df['screen_Name'] == 'BBVA_Mex'].Engagement\n",
    "#print(bbva_peru_engage.head())\n",
    "BBVA_Mex_engage_mean=np.median(BBVA_Mex_engage.iloc[:])\n",
    "print('BBVA_Mex_engagement:', BBVA_Mex_engage_mean)\n",
    "\n",
    "bbva_engage = df[df['screen_Name'] == 'bbva'].Engagement\n",
    "#print(bbva_peru_engage.head())\n",
    "bbva_engage_mean=np.median(bbva_engage.iloc[:])\n",
    "print('bbva_engagement:', bbva_engage_mean)\n",
    "\n",
    "BBVAresponde_es_engage = df[df['screen_Name'] == 'BBVAresponde_es'].Engagement\n",
    "#print(bbva_peru_engage.head())\n",
    "BBVAresponde_es_engage_mean=np.median(BBVAresponde_es_engage.iloc[:])\n",
    "print('BBVAresponde_es_engagement:', BBVAresponde_es_engage_mean)\n",
    "\n",
    "BBVARe_mx_engage = df[df['screen_Name'] == 'BBVARe_mx'].Engagement\n",
    "#print(bbva_peru_engage.head())\n",
    "BBVARe_mx_engage_mean=np.median(BBVARe_mx_engage.iloc[:])\n",
    "print('BBVARe_mx_engagement:', BBVARe_mx_engage_mean)\n",
    "\n",
    "BBVA_Colombia_engage = df[df['screen_Name'] == 'BBVA_Colombia'].Engagement\n",
    "#print(bbva_peru_engage.head())\n",
    "BBVA_Colombia_engage_mean=np.median(BBVA_Colombia_engage.iloc[:])\n",
    "print('BBVA_Colombia_engagement:', BBVA_Colombia_engage_mean)\n",
    "\n",
    "BBVASeguros_mx_engage = df[df['screen_Name'] == 'BBVASeguros_mx'].Engagement\n",
    "#print(bbva_peru_engage.head())\n",
    "BBVASeguros_mx_engage_mean=np.median(BBVASeguros_mx_engage.iloc[:])\n",
    "print('BBVASeguros_mx_engagement:', BBVASeguros_mx_engage_mean)\n",
    "\n",
    "BBVAProvincial_engage = df[df['screen_Name'] == 'BBVAProvincial'].Engagement\n",
    "#print(bbva_peru_engage.head())\n",
    "BBVAProvincial_engage_mean=np.median(BBVAProvincial_engage.iloc[:])\n",
    "print('BBVAProvincial_engagement:', BBVAProvincial_engage_mean)\n",
    "\n",
    "BBVAResearch_engage = df[df['screen_Name'] == 'BBVAResearch'].Engagement\n",
    "#print(bbva_peru_engage.head())\n",
    "BBVAResearch_engage_mean=np.median(BBVAResearch_engage.iloc[:])\n",
    "print('BBVAResearch_engagement:', BBVAResearch_engage_mean)\n",
    "\n",
    "bbva_argentina_engage = df[df['screen_Name'] == 'bbva_argentina'].Engagement\n",
    "#print(bbva_peru_engage.head())\n",
    "bbva_argentina_engage_mean=np.median(bbva_argentina_engage.iloc[:])\n",
    "print('bbva_argentina_engagement:', bbva_argentina_engage_mean)\n",
    "\n",
    "BBVA_espana_engage = df[df['screen_Name'] == 'BBVA_espana'].Engagement\n",
    "#print(bbva_peru_engage.head())\n",
    "BBVA_espana_engage_mean=np.median(BBVA_espana_engage.iloc[:])\n",
    "print('BBVA_espana_engagement:', BBVA_espana_engage_mean)\n",
    "\n",
    "Citibanamex_engage = df[df['screen_Name'] == 'Citibanamex'].Engagement\n",
    "#print(bbva_peru_engage.head())\n",
    "Citibanamex_engage_mean=np.median(Citibanamex_engage.iloc[:])\n",
    "print('Citibanamex_engagement:', Citibanamex_engage_mean)\n",
    "\n",
    "SantanderMx_engage = df[df['screen_Name'] == 'SantanderMx'].Engagement\n",
    "#print(bbva_peru_engage.head())\n",
    "SantanderMx_engage_mean=np.median(SantanderMx_engage.iloc[:])\n",
    "print('SantanderMx_engagement:', SantanderMx_engage_mean)\n",
    "\n"
   ]
  },
  {
   "cell_type": "code",
   "execution_count": 108,
   "metadata": {},
   "outputs": [
    {
     "data": {
      "text/html": [
       "<div>\n",
       "<style scoped>\n",
       "    .dataframe tbody tr th:only-of-type {\n",
       "        vertical-align: middle;\n",
       "    }\n",
       "\n",
       "    .dataframe tbody tr th {\n",
       "        vertical-align: top;\n",
       "    }\n",
       "\n",
       "    .dataframe thead th {\n",
       "        text-align: right;\n",
       "    }\n",
       "</style>\n",
       "<table border=\"1\" class=\"dataframe\">\n",
       "  <thead>\n",
       "    <tr style=\"text-align: right;\">\n",
       "      <th></th>\n",
       "      <th>id</th>\n",
       "      <th>screen_Name</th>\n",
       "      <th>location</th>\n",
       "      <th>created_at</th>\n",
       "      <th>lang</th>\n",
       "      <th>full_text</th>\n",
       "      <th>favorite_count</th>\n",
       "      <th>retweet_count</th>\n",
       "      <th>hashtag</th>\n",
       "      <th>mention</th>\n",
       "      <th>...</th>\n",
       "      <th>friends</th>\n",
       "      <th>verified</th>\n",
       "      <th>banco</th>\n",
       "      <th>pais</th>\n",
       "      <th>Sentiment</th>\n",
       "      <th>caracteres</th>\n",
       "      <th>procedencia</th>\n",
       "      <th>tema</th>\n",
       "      <th>Engagment</th>\n",
       "      <th>Engagement</th>\n",
       "    </tr>\n",
       "  </thead>\n",
       "  <tbody>\n",
       "    <tr>\n",
       "      <th>0</th>\n",
       "      <td>Siuxsy_2020-10-17;19:12:05_140</td>\n",
       "      <td>bbva_peru</td>\n",
       "      <td>NaN</td>\n",
       "      <td>2020-10-17 19:12:05</td>\n",
       "      <td>es</td>\n",
       "      <td>RT @Xaguzar2: El BBVA, a partir de enero, va a...</td>\n",
       "      <td>0</td>\n",
       "      <td>276</td>\n",
       "      <td>NONE</td>\n",
       "      <td>1</td>\n",
       "      <td>...</td>\n",
       "      <td>1510</td>\n",
       "      <td>False</td>\n",
       "      <td>bbva</td>\n",
       "      <td>GL</td>\n",
       "      <td>Negativo</td>\n",
       "      <td>140</td>\n",
       "      <td>usuario</td>\n",
       "      <td>banco</td>\n",
       "      <td>59.740260</td>\n",
       "      <td>59.740260</td>\n",
       "    </tr>\n",
       "    <tr>\n",
       "      <th>1</th>\n",
       "      <td>MLiceranNieto_2020-10-17;19:11:13_190</td>\n",
       "      <td>bbva_peru</td>\n",
       "      <td>NaN</td>\n",
       "      <td>2020-10-17 19:11:13</td>\n",
       "      <td>es</td>\n",
       "      <td>@Marietta170772 De todos...\\nPero hago lo que ...</td>\n",
       "      <td>0</td>\n",
       "      <td>0</td>\n",
       "      <td>NONE</td>\n",
       "      <td>1</td>\n",
       "      <td>...</td>\n",
       "      <td>246</td>\n",
       "      <td>False</td>\n",
       "      <td>bbva</td>\n",
       "      <td>GL</td>\n",
       "      <td>Negativo</td>\n",
       "      <td>190</td>\n",
       "      <td>usuario</td>\n",
       "      <td>banco</td>\n",
       "      <td>0.000000</td>\n",
       "      <td>0.000000</td>\n",
       "    </tr>\n",
       "    <tr>\n",
       "      <th>2</th>\n",
       "      <td>Tribunadeportes_2020-10-17;19:11:06_154</td>\n",
       "      <td>bbva_peru</td>\n",
       "      <td>Puebla, Pue</td>\n",
       "      <td>2020-10-17 19:11:06</td>\n",
       "      <td>es</td>\n",
       "      <td>🎽🥺 ¡Faltó mucho! El @ClubPueblaFem no pudo ano...</td>\n",
       "      <td>0</td>\n",
       "      <td>0</td>\n",
       "      <td>NONE</td>\n",
       "      <td>1</td>\n",
       "      <td>...</td>\n",
       "      <td>470</td>\n",
       "      <td>False</td>\n",
       "      <td>bbva</td>\n",
       "      <td>GL</td>\n",
       "      <td>Positivo</td>\n",
       "      <td>154</td>\n",
       "      <td>usuario</td>\n",
       "      <td>banco</td>\n",
       "      <td>0.000000</td>\n",
       "      <td>0.000000</td>\n",
       "    </tr>\n",
       "    <tr>\n",
       "      <th>3</th>\n",
       "      <td>glumbravo26_2020-10-17;19:10:10_140</td>\n",
       "      <td>bbva_peru</td>\n",
       "      <td>D.F</td>\n",
       "      <td>2020-10-17 19:10:10</td>\n",
       "      <td>es</td>\n",
       "      <td>RT @NARIZROJAAC: Hoy la meta es llegar a $200,...</td>\n",
       "      <td>0</td>\n",
       "      <td>39</td>\n",
       "      <td>NONE</td>\n",
       "      <td>1</td>\n",
       "      <td>...</td>\n",
       "      <td>285</td>\n",
       "      <td>False</td>\n",
       "      <td>bbva</td>\n",
       "      <td>GL</td>\n",
       "      <td>Positivo</td>\n",
       "      <td>140</td>\n",
       "      <td>usuario</td>\n",
       "      <td>banco</td>\n",
       "      <td>27.464789</td>\n",
       "      <td>27.464789</td>\n",
       "    </tr>\n",
       "    <tr>\n",
       "      <th>4</th>\n",
       "      <td>Evacorredoira_2020-10-17;19:09:54_62</td>\n",
       "      <td>bbva_peru</td>\n",
       "      <td>Barcelona</td>\n",
       "      <td>2020-10-17 19:09:54</td>\n",
       "      <td>es</td>\n",
       "      <td>Ei @bbva , cuánto abuso. Es indecente. https:/...</td>\n",
       "      <td>0</td>\n",
       "      <td>0</td>\n",
       "      <td>NONE</td>\n",
       "      <td>1</td>\n",
       "      <td>...</td>\n",
       "      <td>4370</td>\n",
       "      <td>False</td>\n",
       "      <td>bbva</td>\n",
       "      <td>GL</td>\n",
       "      <td>Negativo</td>\n",
       "      <td>62</td>\n",
       "      <td>usuario</td>\n",
       "      <td>banco</td>\n",
       "      <td>0.000000</td>\n",
       "      <td>0.000000</td>\n",
       "    </tr>\n",
       "  </tbody>\n",
       "</table>\n",
       "<p>5 rows × 22 columns</p>\n",
       "</div>"
      ],
      "text/plain": [
       "                                        id screen_Name     location  \\\n",
       "0           Siuxsy_2020-10-17;19:12:05_140   bbva_peru          NaN   \n",
       "1    MLiceranNieto_2020-10-17;19:11:13_190   bbva_peru          NaN   \n",
       "2  Tribunadeportes_2020-10-17;19:11:06_154   bbva_peru  Puebla, Pue   \n",
       "3      glumbravo26_2020-10-17;19:10:10_140   bbva_peru          D.F   \n",
       "4     Evacorredoira_2020-10-17;19:09:54_62   bbva_peru    Barcelona   \n",
       "\n",
       "           created_at lang                                          full_text  \\\n",
       "0 2020-10-17 19:12:05   es  RT @Xaguzar2: El BBVA, a partir de enero, va a...   \n",
       "1 2020-10-17 19:11:13   es  @Marietta170772 De todos...\\nPero hago lo que ...   \n",
       "2 2020-10-17 19:11:06   es  🎽🥺 ¡Faltó mucho! El @ClubPueblaFem no pudo ano...   \n",
       "3 2020-10-17 19:10:10   es  RT @NARIZROJAAC: Hoy la meta es llegar a $200,...   \n",
       "4 2020-10-17 19:09:54   es  Ei @bbva , cuánto abuso. Es indecente. https:/...   \n",
       "\n",
       "   favorite_count  retweet_count hashtag  mention  ... friends  verified  \\\n",
       "0               0            276    NONE        1  ...    1510     False   \n",
       "1               0              0    NONE        1  ...     246     False   \n",
       "2               0              0    NONE        1  ...     470     False   \n",
       "3               0             39    NONE        1  ...     285     False   \n",
       "4               0              0    NONE        1  ...    4370     False   \n",
       "\n",
       "   banco  pais Sentiment caracteres procedencia   tema  Engagment Engagement  \n",
       "0   bbva    GL  Negativo        140     usuario  banco  59.740260  59.740260  \n",
       "1   bbva    GL  Negativo        190     usuario  banco   0.000000   0.000000  \n",
       "2   bbva    GL  Positivo        154     usuario  banco   0.000000   0.000000  \n",
       "3   bbva    GL  Positivo        140     usuario  banco  27.464789  27.464789  \n",
       "4   bbva    GL  Negativo         62     usuario  banco   0.000000   0.000000  \n",
       "\n",
       "[5 rows x 22 columns]"
      ]
     },
     "execution_count": 108,
     "metadata": {},
     "output_type": "execute_result"
    }
   ],
   "source": []
  },
  {
   "cell_type": "code",
   "execution_count": 1,
   "metadata": {},
   "outputs": [
    {
     "name": "stdout",
     "output_type": "stream",
     "text": [
      "<Response [200]>\n",
      "<Response [200]>\n"
     ]
    }
   ],
   "source": [
    "import requests\n",
    "from bs4 import BeautifulSoup\n",
    "url = 'https://www.youtube.com/user/PewDiePie'\n",
    "url2 = 'https://www.youtube.com/user/tseries'\n",
    "page = requests.get(url)\n",
    "page2 = requests.get(url2)\n",
    "print(page)\n",
    "#<Response [200]>\n",
    "print(page2)\n",
    "#<Response [200]>"
   ]
  },
  {
   "cell_type": "code",
   "execution_count": 6,
   "metadata": {},
   "outputs": [
    {
     "name": "stdout",
     "output_type": "stream",
     "text": [
      "[]\n",
      "[]\n"
     ]
    }
   ],
   "source": [
    "soup = BeautifulSoup(page.text, 'html.parser')\n",
    "soup2 = BeautifulSoup(page2.text, 'html.parser')\n",
    "pew = soup.findAll('span', {'class': 'yt-subscription-button-subscriber-count-branded-horizontal subscribed yt-uix-tooltip'})\n",
    "tseries = soup2.findAll('span', {'class': 'yt-subscription-button-subscriber-count-branded-horizontal subscribed yt-uix-tooltip'})\n",
    "print(pew)\n",
    "print(tseries)"
   ]
  },
  {
   "cell_type": "code",
   "execution_count": 7,
   "metadata": {},
   "outputs": [],
   "source": [
    "for subs in pew:\n",
    "  print(subs.get_text())"
   ]
  },
  {
   "cell_type": "code",
   "execution_count": 13,
   "metadata": {},
   "outputs": [],
   "source": [
    "import json \n",
    "  \n",
    "# Data to be written \n",
    "dictionary ={ \n",
    "    \n",
    "    \"URL\" : 'https://www.facebook.com/ian.perrilliat/', \n",
    "    \n",
    "} \n",
    "  \n",
    "# Serializing json  \n",
    "json_object = json.dumps(dictionary, indent = 4) \n",
    "  \n",
    "# Writing to sample.json \n",
    "with open(\"sample.json\", \"w\") as outfile: \n",
    "    outfile.write(json_object) "
   ]
  },
  {
   "cell_type": "code",
   "execution_count": 22,
   "metadata": {},
   "outputs": [
    {
     "data": {
      "text/plain": [
       "_io.TextIOWrapper"
      ]
     },
     "execution_count": 22,
     "metadata": {},
     "output_type": "execute_result"
    }
   ],
   "source": [
    "type(outfile)"
   ]
  },
  {
   "cell_type": "code",
   "execution_count": 16,
   "metadata": {},
   "outputs": [],
   "source": [
    "\n",
    "def json_to_obj(filename):\n",
    "    \"\"\"Extracts data from JSON file and saves it on Python object\n",
    "    \"\"\"\n",
    "    obj = None\n",
    "    with open(filename) as json_file:\n",
    "        obj = json.loads(json_file.read())\n",
    "    return obj"
   ]
  },
  {
   "cell_type": "code",
   "execution_count": 23,
   "metadata": {},
   "outputs": [
    {
     "ename": "NameError",
     "evalue": "name 'logging' is not defined",
     "output_type": "error",
     "traceback": [
      "\u001b[1;31m---------------------------------------------------------------------------\u001b[0m",
      "\u001b[1;31mNameError\u001b[0m                                 Traceback (most recent call last)",
      "\u001b[1;32m<ipython-input-23-5613fa402a2e>\u001b[0m in \u001b[0;36m<module>\u001b[1;34m\u001b[0m\n\u001b[0;32m      1\u001b[0m \u001b[1;32mif\u001b[0m \u001b[0m__name__\u001b[0m \u001b[1;33m==\u001b[0m \u001b[1;34m\"__main__\"\u001b[0m\u001b[1;33m:\u001b[0m\u001b[1;33m\u001b[0m\u001b[1;33m\u001b[0m\u001b[0m\n\u001b[0;32m      2\u001b[0m \u001b[1;33m\u001b[0m\u001b[0m\n\u001b[1;32m----> 3\u001b[1;33m     \u001b[0mlogging\u001b[0m\u001b[1;33m.\u001b[0m\u001b[0mbasicConfig\u001b[0m\u001b[1;33m(\u001b[0m\u001b[0mlevel\u001b[0m\u001b[1;33m=\u001b[0m\u001b[0mlogging\u001b[0m\u001b[1;33m.\u001b[0m\u001b[0mINFO\u001b[0m\u001b[1;33m)\u001b[0m\u001b[1;33m\u001b[0m\u001b[1;33m\u001b[0m\u001b[0m\n\u001b[0m\u001b[0;32m      4\u001b[0m     \u001b[0mbase_url\u001b[0m \u001b[1;33m=\u001b[0m \u001b[1;34m'https://mobile.facebook.com'\u001b[0m\u001b[1;33m\u001b[0m\u001b[1;33m\u001b[0m\u001b[0m\n\u001b[0;32m      5\u001b[0m     \u001b[0msession\u001b[0m \u001b[1;33m=\u001b[0m \u001b[0mrequests\u001b[0m\u001b[1;33m.\u001b[0m\u001b[0msession\u001b[0m\u001b[1;33m(\u001b[0m\u001b[1;33m)\u001b[0m\u001b[1;33m\u001b[0m\u001b[1;33m\u001b[0m\u001b[0m\n",
      "\u001b[1;31mNameError\u001b[0m: name 'logging' is not defined"
     ]
    }
   ],
   "source": [
    "if __name__ == \"__main__\":\n",
    " \n",
    "    logging.basicConfig(level=logging.INFO)\n",
    "    base_url = 'https://mobile.facebook.com'\n",
    "    session = requests.session()\n",
    " \n",
    "    # Extracts credentials for the login and all of the profiles URL to scrape\n",
    "    credentials = json_to_obj('credentials.json')\n",
    "    profiles_urls = json_to_obj(dictionary)\n",
    " \n",
    "    make_login(session, base_url, credentials)\n",
    " \n",
    "    posts_data = None\n",
    "    for profile_url in profiles_urls:\n",
    "        posts_data = crawl_profile(session, base_url, profile_url, 25)\n",
    "    logging.info('[!] Scraping finished. Total: {}'.format(len(posts_data)))\n",
    "    logging.info('[!] Saving.')\n",
    "    save_data(posts_data)"
   ]
  },
  {
   "cell_type": "code",
   "execution_count": null,
   "metadata": {},
   "outputs": [],
   "source": []
  }
 ],
 "metadata": {
  "kernelspec": {
   "display_name": "Python 3",
   "language": "python",
   "name": "python3"
  },
  "language_info": {
   "codemirror_mode": {
    "name": "ipython",
    "version": 3
   },
   "file_extension": ".py",
   "mimetype": "text/x-python",
   "name": "python",
   "nbconvert_exporter": "python",
   "pygments_lexer": "ipython3",
   "version": "3.7.1"
  }
 },
 "nbformat": 4,
 "nbformat_minor": 4
}
